{
 "cells": [
  {
   "cell_type": "code",
   "execution_count": 17,
   "metadata": {},
   "outputs": [
    {
     "ename": "DatabaseError",
     "evalue": "1007 (HY000): Can't create database 'jay'; database exists",
     "output_type": "error",
     "traceback": [
      "\u001b[1;31m---------------------------------------------------------------------------\u001b[0m",
      "\u001b[1;31mMySQLInterfaceError\u001b[0m                       Traceback (most recent call last)",
      "\u001b[1;32m~\\anaconda3\\lib\\site-packages\\mysql\\connector\\connection_cext.py\u001b[0m in \u001b[0;36mcmd_query\u001b[1;34m(self, query, raw, buffered, raw_as_string)\u001b[0m\n\u001b[0;32m    486\u001b[0m                 \u001b[0mquery\u001b[0m \u001b[1;33m=\u001b[0m \u001b[0mquery\u001b[0m\u001b[1;33m.\u001b[0m\u001b[0mencode\u001b[0m\u001b[1;33m(\u001b[0m\u001b[1;34m'utf-8'\u001b[0m\u001b[1;33m)\u001b[0m\u001b[1;33m\u001b[0m\u001b[1;33m\u001b[0m\u001b[0m\n\u001b[1;32m--> 487\u001b[1;33m             self._cmysql.query(query,\n\u001b[0m\u001b[0;32m    488\u001b[0m                                \u001b[0mraw\u001b[0m\u001b[1;33m=\u001b[0m\u001b[0mraw\u001b[0m\u001b[1;33m,\u001b[0m \u001b[0mbuffered\u001b[0m\u001b[1;33m=\u001b[0m\u001b[0mbuffered\u001b[0m\u001b[1;33m,\u001b[0m\u001b[1;33m\u001b[0m\u001b[1;33m\u001b[0m\u001b[0m\n",
      "\u001b[1;31mMySQLInterfaceError\u001b[0m: Can't create database 'jay'; database exists",
      "\nDuring handling of the above exception, another exception occurred:\n",
      "\u001b[1;31mDatabaseError\u001b[0m                             Traceback (most recent call last)",
      "\u001b[1;32m<ipython-input-17-ba8de60acebc>\u001b[0m in \u001b[0;36m<module>\u001b[1;34m\u001b[0m\n\u001b[0;32m      6\u001b[0m \u001b[0mmydb\u001b[0m \u001b[1;33m=\u001b[0m \u001b[0mmysql\u001b[0m\u001b[1;33m.\u001b[0m\u001b[0mconnector\u001b[0m\u001b[1;33m.\u001b[0m\u001b[0mconnect\u001b[0m\u001b[1;33m(\u001b[0m\u001b[0mhost\u001b[0m\u001b[1;33m=\u001b[0m\u001b[1;34m'localhost'\u001b[0m\u001b[1;33m,\u001b[0m\u001b[0musername\u001b[0m\u001b[1;33m=\u001b[0m\u001b[1;34m'root'\u001b[0m\u001b[1;33m,\u001b[0m\u001b[0mpassword\u001b[0m\u001b[1;33m=\u001b[0m\u001b[1;34m'password'\u001b[0m\u001b[1;33m)\u001b[0m\u001b[1;33m\u001b[0m\u001b[1;33m\u001b[0m\u001b[0m\n\u001b[0;32m      7\u001b[0m \u001b[0mmycursor\u001b[0m \u001b[1;33m=\u001b[0m \u001b[0mmydb\u001b[0m\u001b[1;33m.\u001b[0m\u001b[0mcursor\u001b[0m\u001b[1;33m(\u001b[0m\u001b[1;33m)\u001b[0m\u001b[1;33m\u001b[0m\u001b[1;33m\u001b[0m\u001b[0m\n\u001b[1;32m----> 8\u001b[1;33m \u001b[0mmycursor\u001b[0m\u001b[1;33m.\u001b[0m\u001b[0mexecute\u001b[0m\u001b[1;33m(\u001b[0m\u001b[1;34m'create database jay'\u001b[0m\u001b[1;33m)\u001b[0m\u001b[1;33m\u001b[0m\u001b[1;33m\u001b[0m\u001b[0m\n\u001b[0m",
      "\u001b[1;32m~\\anaconda3\\lib\\site-packages\\mysql\\connector\\cursor_cext.py\u001b[0m in \u001b[0;36mexecute\u001b[1;34m(self, operation, params, multi)\u001b[0m\n\u001b[0;32m    262\u001b[0m \u001b[1;33m\u001b[0m\u001b[0m\n\u001b[0;32m    263\u001b[0m         \u001b[1;32mtry\u001b[0m\u001b[1;33m:\u001b[0m\u001b[1;33m\u001b[0m\u001b[1;33m\u001b[0m\u001b[0m\n\u001b[1;32m--> 264\u001b[1;33m             result = self._cnx.cmd_query(stmt, raw=self._raw,\n\u001b[0m\u001b[0;32m    265\u001b[0m                                          \u001b[0mbuffered\u001b[0m\u001b[1;33m=\u001b[0m\u001b[0mself\u001b[0m\u001b[1;33m.\u001b[0m\u001b[0m_buffered\u001b[0m\u001b[1;33m,\u001b[0m\u001b[1;33m\u001b[0m\u001b[1;33m\u001b[0m\u001b[0m\n\u001b[0;32m    266\u001b[0m                                          raw_as_string=self._raw_as_string)\n",
      "\u001b[1;32m~\\anaconda3\\lib\\site-packages\\mysql\\connector\\connection_cext.py\u001b[0m in \u001b[0;36mcmd_query\u001b[1;34m(self, query, raw, buffered, raw_as_string)\u001b[0m\n\u001b[0;32m    489\u001b[0m                                raw_as_string=raw_as_string)\n\u001b[0;32m    490\u001b[0m         \u001b[1;32mexcept\u001b[0m \u001b[0mMySQLInterfaceError\u001b[0m \u001b[1;32mas\u001b[0m \u001b[0mexc\u001b[0m\u001b[1;33m:\u001b[0m\u001b[1;33m\u001b[0m\u001b[1;33m\u001b[0m\u001b[0m\n\u001b[1;32m--> 491\u001b[1;33m             raise errors.get_mysql_exception(exc.errno, msg=exc.msg,\n\u001b[0m\u001b[0;32m    492\u001b[0m                                              sqlstate=exc.sqlstate)\n\u001b[0;32m    493\u001b[0m         \u001b[1;32mexcept\u001b[0m \u001b[0mAttributeError\u001b[0m\u001b[1;33m:\u001b[0m\u001b[1;33m\u001b[0m\u001b[1;33m\u001b[0m\u001b[0m\n",
      "\u001b[1;31mDatabaseError\u001b[0m: 1007 (HY000): Can't create database 'jay'; database exists"
     ]
    }
   ],
   "source": [
    "# Create Data Base\n",
    "\n",
    "import tkinter as tk\n",
    "from tkinter import *\n",
    "\n",
    "import mysql.connector \n",
    "\n",
    "mydb = mysql.connector.connect(host='localhost',username='root',password='password')\n",
    "mycursor = mydb.cursor()\n",
    "mycursor.execute('create database jay')"
   ]
  },
  {
   "cell_type": "code",
   "execution_count": 18,
   "metadata": {},
   "outputs": [
    {
     "name": "stdout",
     "output_type": "stream",
     "text": [
      "<mysql.connector.connection_cext.CMySQLConnection object at 0x000001C0BBE06910>\n"
     ]
    }
   ],
   "source": [
    "# Check Data Base Create or Not\n",
    "import mysql.connector \n",
    "\n",
    "mydb = mysql.connector.connect(host='localhost',username='root',password='password')\n",
    "print(mydb)"
   ]
  },
  {
   "cell_type": "code",
   "execution_count": 19,
   "metadata": {},
   "outputs": [],
   "source": [
    "# Create Table\n",
    "import mysql.connector \n",
    "\n",
    "mydb = mysql.connector.connect(host='localhost',username='root',password='password',db='jay')\n",
    "query = mydb.cursor()\n",
    "query.execute('create table Student (Firstname varchar(20), Lastname varchar(20), Address varchar(30), City varchar(10), Class varchar(10))')"
   ]
  },
  {
   "cell_type": "code",
   "execution_count": 22,
   "metadata": {},
   "outputs": [
    {
     "name": "stdout",
     "output_type": "stream",
     "text": [
      "('student',)\n"
     ]
    }
   ],
   "source": [
    "# Check Table Create or Not\n",
    "import mysql.connector \n",
    "\n",
    "mydb = mysql.connector.connect(host='localhost',username='root',password='password',db='jay')\n",
    "query = mydb.cursor()\n",
    "query.execute('show tables')\n",
    "for i in query:\n",
    "    print(i)"
   ]
  },
  {
   "cell_type": "code",
   "execution_count": 40,
   "metadata": {},
   "outputs": [
    {
     "name": "stdout",
     "output_type": "stream",
     "text": [
      "Record inserted successfully into Student table\n"
     ]
    }
   ],
   "source": [
    "# Student Management System \n",
    "import tkinter as tk\n",
    "from tkinter import *\n",
    "import mysql.connector \n",
    "from tkinter import messagebox\n",
    "\n",
    "# btn_insert function\n",
    "def btn_insert():\n",
    "    # get entry data    \n",
    "    fnm1 = fnm.get()\n",
    "    lnm1 = lnm.get()\n",
    "    add1 = add.get()\n",
    "    ct1  = ct.get()\n",
    "    cs1  = cs.get()\n",
    "    try:\n",
    "        # connect with db\n",
    "        mydb = mysql.connector.connect(host='localhost',username='root',password='password',db='jay')\n",
    "        query = mydb.cursor()\n",
    "        insert_query = '''insert into Student (Firstname, Lastname, Address, City, Class) values (%s, %s, %s, %s, %s)'''\n",
    "        insert_data = (fnm1, lnm1, add1, ct1, cs1)\n",
    "        query.execute(insert_query,insert_data)\n",
    "        mydb.commit()\n",
    "        print('Record inserted successfully into Student table')\n",
    "        messagebox.showinfo('Record','Record inserted successfully')\n",
    "    # henddel connection error    \n",
    "    except mysql.connector.Error as error:\n",
    "        print(\"Failed to insert into MySQL table {}\".format(error))\n",
    "            \n",
    "# main windows\n",
    "win = tk.Tk(className='Student Management System')\n",
    "win.geometry(\"400x400\")\n",
    "\n",
    "# create labels\n",
    "tk.Label(win, text='Firstname').grid(row=0,column=0,sticky='w')\n",
    "tk.Label(win, text='Lastname').grid(row=1,column=0,sticky='w')\n",
    "tk.Label(win, text='Address').grid(row=2,column=0,sticky='w')\n",
    "tk.Label(win, text='City').grid(row=3,column=0,sticky='w')\n",
    "tk.Label(win, text='Class').grid(row=4,column=0,sticky='w')\n",
    "\n",
    "# create Entry \n",
    "# entry value store in variables\n",
    "fnm = tk.StringVar()\n",
    "lnm = tk.StringVar()\n",
    "add = tk.StringVar()\n",
    "ct = tk.StringVar()\n",
    "cs = tk.StringVar()\n",
    "\n",
    "# entry widget\n",
    "tk.Entry(win, textvariable=fnm).grid(row=0,column=1)\n",
    "tk.Entry(win, textvariable=lnm).grid(row=1,column=1)\n",
    "tk.Entry(win, textvariable=add).grid(row=2,column=1)\n",
    "tk.Entry(win, textvariable=ct).grid(row=3,column=1)\n",
    "tk.Entry(win, textvariable=cs).grid(row=4,column=1)\n",
    "\n",
    "#add button\n",
    "tk.Button(win, text='Insert',activebackground='blue',command=btn_insert).grid(row=6)\n",
    "\n",
    "win.mainloop()"
   ]
  },
  {
   "cell_type": "code",
   "execution_count": null,
   "metadata": {},
   "outputs": [],
   "source": []
  }
 ],
 "metadata": {
  "kernelspec": {
   "display_name": "Python 3",
   "language": "python",
   "name": "python3"
  },
  "language_info": {
   "codemirror_mode": {
    "name": "ipython",
    "version": 3
   },
   "file_extension": ".py",
   "mimetype": "text/x-python",
   "name": "python",
   "nbconvert_exporter": "python",
   "pygments_lexer": "ipython3",
   "version": "3.8.5"
  }
 },
 "nbformat": 4,
 "nbformat_minor": 4
}
